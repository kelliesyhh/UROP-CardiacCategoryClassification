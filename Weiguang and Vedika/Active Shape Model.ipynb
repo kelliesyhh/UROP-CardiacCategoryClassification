{
 "cells": [
  {
   "cell_type": "code",
   "execution_count": 83,
   "metadata": {},
   "outputs": [],
   "source": [
    "import numpy as np\n",
    "import matplotlib.pyplot as plt\n",
    "import seaborn as sns\n",
    "import pandas as pd\n",
    "from Shape_Visualisation import draw_shape\n",
    "%matplotlib inline"
   ]
  },
  {
   "cell_type": "code",
   "execution_count": 84,
   "metadata": {},
   "outputs": [],
   "source": [
    "df=pd.read_csv(\"urop.csv\")\n",
    "\n",
    "\n",
    "# extract healthy echo data\n",
    "df = df.drop([\"IDshort\",'SERNO','HistoCode'], 1)\n",
    "mask=df[\"Cardiac_Category (0=good; 1=poor)\"]==0\n",
    "healthy_df=df[mask]\n",
    "echo=healthy_df.iloc[:,19:55]\n",
    "\n",
    "# fill in missing data\n",
    "for col in echo.columns:\n",
    "    echo[col].fillna(echo[col].mean(),inplace=True)\n",
    "\n",
    "    \n",
    "# data that form part of cardiac geometry    \n",
    "left_ventricle=echo.iloc[:,1:8]\n",
    "aorta=echo.iloc[:,8:9]\n",
    "left_atrium=echo.iloc[:,9:10]\n",
    "sinus=echo.iloc[:,-4:-2]"
   ]
  },
  {
   "cell_type": "code",
   "execution_count": 85,
   "metadata": {},
   "outputs": [],
   "source": [
    "# Step 1 : Standardize/normalise the data\n",
    "\n",
    "from sklearn.preprocessing import StandardScaler"
   ]
  },
  {
   "cell_type": "code",
   "execution_count": 86,
   "metadata": {},
   "outputs": [],
   "source": [
    "norm_lv=StandardScaler().fit_transform(left_ventricle)"
   ]
  },
  {
   "cell_type": "code",
   "execution_count": 87,
   "metadata": {},
   "outputs": [
    {
     "data": {
      "text/plain": [
       "(-5.014884954769414e-16, 1.0)"
      ]
     },
     "execution_count": 87,
     "metadata": {},
     "output_type": "execute_result"
    }
   ],
   "source": [
    "# Check if data is normalized\n",
    "\n",
    "np.mean(norm_lv) , np.std(norm_lv)"
   ]
  },
  {
   "cell_type": "code",
   "execution_count": 88,
   "metadata": {},
   "outputs": [
    {
     "data": {
      "text/html": [
       "<div>\n",
       "<style scoped>\n",
       "    .dataframe tbody tr th:only-of-type {\n",
       "        vertical-align: middle;\n",
       "    }\n",
       "\n",
       "    .dataframe tbody tr th {\n",
       "        vertical-align: top;\n",
       "    }\n",
       "\n",
       "    .dataframe thead th {\n",
       "        text-align: right;\n",
       "    }\n",
       "</style>\n",
       "<table border=\"1\" class=\"dataframe\">\n",
       "  <thead>\n",
       "    <tr style=\"text-align: right;\">\n",
       "      <th></th>\n",
       "      <th>IVSD__cm</th>\n",
       "      <th>IVSS__cm</th>\n",
       "      <th>LVIDD_cm</th>\n",
       "      <th>LVIDS_cm</th>\n",
       "      <th>LVPWD_cm</th>\n",
       "      <th>LVPWS_cm</th>\n",
       "      <th>LVOT__cm</th>\n",
       "    </tr>\n",
       "  </thead>\n",
       "  <tbody>\n",
       "    <tr>\n",
       "      <th>0</th>\n",
       "      <td>-0.674031</td>\n",
       "      <td>-1.301265</td>\n",
       "      <td>-0.641467</td>\n",
       "      <td>0.520507</td>\n",
       "      <td>-1.043695</td>\n",
       "      <td>-1.148882</td>\n",
       "      <td>-0.065609</td>\n",
       "    </tr>\n",
       "    <tr>\n",
       "      <th>1</th>\n",
       "      <td>1.899542</td>\n",
       "      <td>1.506259</td>\n",
       "      <td>2.934855</td>\n",
       "      <td>3.127819</td>\n",
       "      <td>2.881844</td>\n",
       "      <td>0.994111</td>\n",
       "      <td>0.651986</td>\n",
       "    </tr>\n",
       "    <tr>\n",
       "      <th>2</th>\n",
       "      <td>-0.674031</td>\n",
       "      <td>0.102497</td>\n",
       "      <td>-0.130564</td>\n",
       "      <td>-0.081180</td>\n",
       "      <td>0.264818</td>\n",
       "      <td>-0.434551</td>\n",
       "      <td>-0.266535</td>\n",
       "    </tr>\n",
       "  </tbody>\n",
       "</table>\n",
       "</div>"
      ],
      "text/plain": [
       "   IVSD__cm  IVSS__cm  LVIDD_cm  LVIDS_cm  LVPWD_cm  LVPWS_cm  LVOT__cm\n",
       "0 -0.674031 -1.301265 -0.641467  0.520507 -1.043695 -1.148882 -0.065609\n",
       "1  1.899542  1.506259  2.934855  3.127819  2.881844  0.994111  0.651986\n",
       "2 -0.674031  0.102497 -0.130564 -0.081180  0.264818 -0.434551 -0.266535"
      ]
     },
     "execution_count": 88,
     "metadata": {},
     "output_type": "execute_result"
    }
   ],
   "source": [
    "# Visualisation of standardized data\n",
    "\n",
    "lv_df=pd.DataFrame(norm_lv,columns=left_ventricle.columns)\n",
    "lv_df.head(3)"
   ]
  },
  {
   "cell_type": "code",
   "execution_count": 89,
   "metadata": {},
   "outputs": [],
   "source": [
    "from sklearn.decomposition import PCA\n",
    "from math import pi"
   ]
  },
  {
   "cell_type": "code",
   "execution_count": 90,
   "metadata": {},
   "outputs": [],
   "source": [
    "# Apply PCA on normalised dataset\n",
    "\n",
    "\n",
    "class convers_pca():\n",
    "    def __init__(self, no_of_components):\n",
    "        self.no_of_components = no_of_components\n",
    "        self.eigen_values = None\n",
    "        self.eigen_vectors = None\n",
    "        \n",
    "    def transform(self, x):\n",
    "        return np.dot(x - self.mean, self.projection_matrix.T)\n",
    "    \n",
    "    def inverse_transform(self, x):\n",
    "        return np.dot(x, self.projection_matrix) + self.mean\n",
    "    \n",
    "    def fit(self, x):\n",
    "        if self.no_of_components is None:\n",
    "            self.no_of_components = x.shape[1]\n",
    "        else:\n",
    "            self.no_of_components = self.no_of_components\n",
    "            \n",
    "            \n",
    "        self.mean = np.mean(x, axis=0)\n",
    "        \n",
    "        cov_matrix = np.cov(x - self.mean, rowvar=False)\n",
    "        \n",
    "        self.eigen_values, self.eigen_vectors = np.linalg.eig(cov_matrix)\n",
    "        self.eigen_vectors = self.eigen_vectors.T\n",
    "        \n",
    "        self.sorted_components = np.argsort(self.eigen_values)[::-1]\n",
    "        \n",
    "        self.projection_matrix = self.eigen_vectors[self.sorted_components[:self.no_of_components]]\n",
    "        self.explained_variance = self.eigen_values[self.sorted_components[:self.no_of_components]]\n",
    "        self.explained_variance_ratio = self.explained_variance / self.eigen_values.sum()"
   ]
  },
  {
   "cell_type": "code",
   "execution_count": 91,
   "metadata": {},
   "outputs": [
    {
     "data": {
      "text/plain": [
       "6"
      ]
     },
     "execution_count": 91,
     "metadata": {},
     "output_type": "execute_result"
    }
   ],
   "source": [
    "# Check how many components are required to retain 98% variance\n",
    "\n",
    "pca=PCA(0.98)\n",
    "pca_lv=pca.fit_transform(norm_lv)\n",
    "pca.n_components_"
   ]
  },
  {
   "cell_type": "code",
   "execution_count": 92,
   "metadata": {},
   "outputs": [],
   "source": [
    "# Create PCA with 6 components\n",
    "pca=convers_pca(no_of_components=6)\n",
    "pca.fit(norm_lv)"
   ]
  },
  {
   "cell_type": "code",
   "execution_count": 93,
   "metadata": {},
   "outputs": [],
   "source": [
    "# x = x_m + Pb\n",
    "# x_m --> mean \n",
    "# P   --> t eigenvectors (p1|p2|....|pt)\n",
    "# b   --> t vectors of weights (b1|b2|....|bt)T ,  -3 sqrt(lambda) < b_i < 3 sqrt(lambda)\n",
    "\n",
    "x_m=np.array(left_ventricle.mean())\n"
   ]
  },
  {
   "cell_type": "code",
   "execution_count": 94,
   "metadata": {},
   "outputs": [],
   "source": [
    "p=pca.projection_matrix.T"
   ]
  },
  {
   "cell_type": "code",
   "execution_count": 95,
   "metadata": {},
   "outputs": [],
   "source": [
    "b=pca.explained_variance_ratio\n",
    "lower_limit=-2*np.sqrt(b)\n",
    "upper_limit=2*np.sqrt(b)"
   ]
  },
  {
   "cell_type": "code",
   "execution_count": 96,
   "metadata": {},
   "outputs": [],
   "source": [
    "#adjust 1st mode, set all other paramters to zero\n",
    "\n",
    "b1_low=np.concatenate((lower_limit[0],np.zeros(5)),axis=None).T\n",
    "b1_high=np.concatenate((upper_limit[0],np.zeros(5)),axis=None).T\n",
    "b2_low=np.concatenate((np.zeros(1),lower_limit[1],np.zeros(4)),axis=None).T\n",
    "b2_high=np.concatenate((np.zeros(1),upper_limit[1],np.zeros(4)),axis=None).T"
   ]
  },
  {
   "cell_type": "code",
   "execution_count": 97,
   "metadata": {},
   "outputs": [],
   "source": [
    "x1_low=x_m+ np.matmul(p,b1_low)\n",
    "x1_high=x_m+ np.matmul(p,b1_high)\n",
    "x2_low=x_m+ np.matmul(p,b2_low)\n",
    "x2_high=x_m+ np.matmul(p,b2_high)"
   ]
  },
  {
   "cell_type": "code",
   "execution_count": 98,
   "metadata": {},
   "outputs": [
    {
     "data": {
      "text/plain": [
       "(array([1.31605508, 1.65304313, 4.94685027, 2.82398866, 1.29871838,\n",
       "        1.9353307 , 2.47093863]),\n",
       " array([0.77857143, 1.17809524, 4.37666667, 2.44047619, 0.75952381,\n",
       "        1.42166667, 2.02285714]),\n",
       " array([0.24108778, 0.70314734, 3.80648306, 2.05696372, 0.22032924,\n",
       "        0.90800263, 1.57477565]))"
      ]
     },
     "execution_count": 98,
     "metadata": {},
     "output_type": "execute_result"
    }
   ],
   "source": [
    "x1_low,x_m,x1_high"
   ]
  },
  {
   "cell_type": "code",
   "execution_count": 99,
   "metadata": {},
   "outputs": [
    {
     "data": {
      "image/png": "[encoded data removed]",
      "text/plain": [
       "<Figure size 432x288 with 1 Axes>"
      ]
     },
     "metadata": {
      "needs_background": "light"
     },
     "output_type": "display_data"
    },
    {
     "data": {
      "image/png": "[encoded data removed]",
      "text/plain": [
       "<Figure size 432x288 with 1 Axes>"
      ]
     },
     "metadata": {
      "needs_background": "light"
     },
     "output_type": "display_data"
    },
    {
     "data": {
      "image/png": "[encoded data removed]",
      "text/plain": [
       "<Figure size 432x288 with 1 Axes>"
      ]
     },
     "metadata": {
      "needs_background": "light"
     },
     "output_type": "display_data"
    },
    {
     "data": {
      "image/png": "[encoded data removed]",
      "text/plain": [
       "<Figure size 432x288 with 1 Axes>"
      ]
     },
     "metadata": {
      "needs_background": "light"
     },
     "output_type": "display_data"
    },
    {
     "data": {
      "image/png": "[encoded data removed]",
      "text/plain": [
       "<Figure size 432x288 with 1 Axes>"
      ]
     },
     "metadata": {
      "needs_background": "light"
     },
     "output_type": "display_data"
    },
    {
     "data": {
      "text/plain": [
       "(None, None, None, None, None)"
      ]
     },
     "execution_count": 99,
     "metadata": {},
     "output_type": "execute_result"
    }
   ],
   "source": [
    "# use draw_shape() method on x1_low,x_m,x1_high\n",
    "\n",
    "draw_shape(x1_low),draw_shape(x_m),draw_shape(x1_high),draw_shape(x2_low),draw_shape(x2_high)"
   ]
  },
  {
   "cell_type": "code",
   "execution_count": null,
   "metadata": {},
   "outputs": [],
   "source": []
  }
 ],
 "metadata": {
  "kernelspec": {
   "display_name": "Python 3",
   "language": "python",
   "name": "python3"
  },
  "language_info": {
   "codemirror_mode": {
    "name": "ipython",
    "version": 3
   },
   "file_extension": ".py",
   "mimetype": "text/x-python",
   "name": "python",
   "nbconvert_exporter": "python",
   "pygments_lexer": "ipython3",
   "version": "3.8.5"
  }
 },
 "nbformat": 4,
 "nbformat_minor": 4
}
