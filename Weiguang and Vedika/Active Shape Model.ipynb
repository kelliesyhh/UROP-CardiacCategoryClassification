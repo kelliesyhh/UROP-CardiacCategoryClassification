{
 "cells": [
  {
   "cell_type": "code",
   "execution_count": 44,
   "metadata": {},
   "outputs": [],
   "source": [
    "import numpy as np\n",
    "import matplotlib.pyplot as plt\n",
    "import seaborn as sns\n",
    "import pandas as pd\n",
    "#from Shape_Visualisation import draw_shape\n",
    "%matplotlib inline"
   ]
  },
  {
   "cell_type": "code",
   "execution_count": 45,
   "metadata": {},
   "outputs": [],
   "source": [
    "def draw_shape(a):\n",
    "\n",
    "\n",
    "    septum_d,septum_s=a[0],a[1]\n",
    "    dim_d,dim_s=a[2],a[3]\n",
    "    wall_d,wall_s=a[4],a[5]\n",
    "\n",
    "\n",
    "    # Estimate shape using  parametric eqn of ellipse\n",
    "    # x = u + a cos(t) ; y = v + b sin(t)\n",
    "\n",
    "    u=0     #x-position of the center\n",
    "    v=0   #y-position of the center\n",
    "    a=4 #radius on the x-axis\n",
    "    b=dim_d/2   #radius on the y-axis\n",
    "    indices=[]\n",
    "\n",
    "    t_all= np.linspace(0, 2*pi, 100)\n",
    "    x_all=(u+a*np.cos(t_all))[::-1]\n",
    "    y_all=(v+b*np.sin(t_all))[::-1]\n",
    "\n",
    "    \n",
    "    #remove x,y coordinates where y< (dim_s/2)\n",
    "\n",
    "    for i,(x,y) in enumerate(zip(x_all,y_all)):\n",
    "        if y<=dim_s/2:\n",
    "            indices+=[i]\n",
    "\n",
    "\n",
    "    x=np.delete(x_all,indices)\n",
    "    y=np.delete(y_all,indices)\n",
    "    \n",
    "    y_s=y + septum_d\n",
    "    y_w= -y - wall_d\n",
    "    \n",
    "    \n",
    "    \n",
    "    # Split the ellipse into 2 (left and right)\n",
    "\n",
    "    ys_left=y_s[:np.argmax(y_s)+1]\n",
    "    xs_left=x[:np.argmax(y_s)+1]\n",
    "    yw_left=y_w[:np.argmin(y_w)+1]\n",
    "    xw_left=xs_left\n",
    "\n",
    "    ys_right=y_s[np.argmax(y_s):]\n",
    "    xs_right=x[np.argmax(y_s):]\n",
    "    yw_right=y_w[np.argmin(y_w):]\n",
    "    xw_right=xs_right\n",
    "    \n",
    "    # Ensure that the right side of the ellipse do not go under the straight line\n",
    "    \n",
    "    #print(\"Y coordinate of straight line:\",y[-1]+ septum_s)\n",
    "    #print(\"max of y coordinate:\",np.max(ys_right))\n",
    "    \n",
    "    indices=np.where(ys_right< (y[-1]+ septum_s))\n",
    "    indices_1=np.where(yw_right > (-y[-1]-wall_s))\n",
    "\n",
    "    ys_right = np.delete(ys_right, indices)\n",
    "    xs_right= np.delete(xs_right, indices)\n",
    "    yw_right=np.delete(yw_right,indices_1)\n",
    "    xw_right=np.delete(xw_right,indices_1)\n",
    "    \n",
    "    \n",
    "    # Estimate shape of LVIDs using a horizontal line\n",
    "    \n",
    "    x_more=np.linspace(x[-1],6,100)\n",
    "    y_more=np.linspace(y[-1],y[-1],100)\n",
    "    ys_more=np.linspace(y[-1]+ septum_s,y[-1] + septum_s,100)\n",
    "    yw_more=np.linspace(-y[-1]-wall_s,-y[-1] - wall_s,100)\n",
    "    xs_more=np.linspace(xs_right[-1],6,100)\n",
    "    xw_more=np.linspace(xw_right[-1],6,100)\n",
    "    \n",
    "    \n",
    "    # Add all the x,y coordinates respectively\n",
    "\n",
    "    x=np.concatenate((x,x_more),axis=None)\n",
    "    y=np.concatenate((y,y_more),axis=None)\n",
    "    y_s=np.concatenate((ys_left,ys_right,ys_more),axis=None)\n",
    "    x_s=np.concatenate((xs_left,xs_right,xs_more),axis=None)\n",
    "    y_w=np.concatenate((yw_left,yw_right,yw_more),axis=None)\n",
    "    x_w=np.concatenate((xw_left,xw_right,xw_more),axis=None)\n",
    "    \n",
    "    # Plot the graphs\n",
    "\n",
    "    \n",
    "    plt.grid(color='lightgray',linestyle='--')\n",
    "    plt.xlim(-4, 6)\n",
    "    plt.ylim(-4, 4)\n",
    "    plt.plot(x,y)\n",
    "    plt.plot(x,-y)\n",
    "    plt.plot(x_s,y_s)\n",
    "    plt.plot(x_w,y_w)\n",
    "    \n",
    "    plt.show()"
   ]
  },
  {
   "cell_type": "code",
   "execution_count": 46,
   "metadata": {},
   "outputs": [],
   "source": [
    "df=pd.read_csv(\"urop.csv\")\n",
    "\n",
    "\n",
    "# extract healthy echo data\n",
    "df = df.drop([\"IDshort\",'SERNO','HistoCode'], 1)\n",
    "mask=df[\"Cardiac_Category (0=good; 1=poor)\"]==0\n",
    "healthy_df=df[mask]\n",
    "echo=healthy_df.iloc[:,19:55]\n",
    "\n",
    "# fill in missing data\n",
    "for col in echo.columns:\n",
    "    echo[col].fillna(echo[col].mean(),inplace=True)\n",
    "\n",
    "    \n",
    "# data that form part of cardiac geometry    \n",
    "left_ventricle=echo.iloc[:,1:7]\n",
    "aorta=echo.iloc[:,8:9]\n",
    "left_atrium=echo.iloc[:,9:10]\n",
    "sinus=echo.iloc[:,-4:-2]"
   ]
  },
  {
   "cell_type": "code",
   "execution_count": 47,
   "metadata": {},
   "outputs": [],
   "source": [
    "# Step 1 : Standardize/normalise the data\n",
    "\n",
    "from sklearn.preprocessing import StandardScaler"
   ]
  },
  {
   "cell_type": "code",
   "execution_count": 48,
   "metadata": {},
   "outputs": [],
   "source": [
    "norm_lv=StandardScaler().fit_transform(left_ventricle)"
   ]
  },
  {
   "cell_type": "code",
   "execution_count": 49,
   "metadata": {},
   "outputs": [
    {
     "data": {
      "text/plain": [
       "(-4.3175339846533865e-16, 1.0)"
      ]
     },
     "execution_count": 49,
     "metadata": {},
     "output_type": "execute_result"
    }
   ],
   "source": [
    "# Check if data is normalized\n",
    "\n",
    "np.mean(norm_lv) , np.std(norm_lv)"
   ]
  },
  {
   "cell_type": "code",
   "execution_count": 50,
   "metadata": {},
   "outputs": [
    {
     "data": {
      "text/html": [
       "<div>\n",
       "<style scoped>\n",
       "    .dataframe tbody tr th:only-of-type {\n",
       "        vertical-align: middle;\n",
       "    }\n",
       "\n",
       "    .dataframe tbody tr th {\n",
       "        vertical-align: top;\n",
       "    }\n",
       "\n",
       "    .dataframe thead th {\n",
       "        text-align: right;\n",
       "    }\n",
       "</style>\n",
       "<table border=\"1\" class=\"dataframe\">\n",
       "  <thead>\n",
       "    <tr style=\"text-align: right;\">\n",
       "      <th></th>\n",
       "      <th>IVSD__cm</th>\n",
       "      <th>IVSS__cm</th>\n",
       "      <th>LVIDD_cm</th>\n",
       "      <th>LVIDS_cm</th>\n",
       "      <th>LVPWD_cm</th>\n",
       "      <th>LVPWS_cm</th>\n",
       "    </tr>\n",
       "  </thead>\n",
       "  <tbody>\n",
       "    <tr>\n",
       "      <th>0</th>\n",
       "      <td>-0.674031</td>\n",
       "      <td>-1.301265</td>\n",
       "      <td>-0.641467</td>\n",
       "      <td>0.520507</td>\n",
       "      <td>-1.043695</td>\n",
       "      <td>-1.148882</td>\n",
       "    </tr>\n",
       "    <tr>\n",
       "      <th>1</th>\n",
       "      <td>1.899542</td>\n",
       "      <td>1.506259</td>\n",
       "      <td>2.934855</td>\n",
       "      <td>3.127819</td>\n",
       "      <td>2.881844</td>\n",
       "      <td>0.994111</td>\n",
       "    </tr>\n",
       "    <tr>\n",
       "      <th>2</th>\n",
       "      <td>-0.674031</td>\n",
       "      <td>0.102497</td>\n",
       "      <td>-0.130564</td>\n",
       "      <td>-0.081180</td>\n",
       "      <td>0.264818</td>\n",
       "      <td>-0.434551</td>\n",
       "    </tr>\n",
       "  </tbody>\n",
       "</table>\n",
       "</div>"
      ],
      "text/plain": [
       "   IVSD__cm  IVSS__cm  LVIDD_cm  LVIDS_cm  LVPWD_cm  LVPWS_cm\n",
       "0 -0.674031 -1.301265 -0.641467  0.520507 -1.043695 -1.148882\n",
       "1  1.899542  1.506259  2.934855  3.127819  2.881844  0.994111\n",
       "2 -0.674031  0.102497 -0.130564 -0.081180  0.264818 -0.434551"
      ]
     },
     "execution_count": 50,
     "metadata": {},
     "output_type": "execute_result"
    }
   ],
   "source": [
    "# Visualisation of standardized data\n",
    "\n",
    "lv_df=pd.DataFrame(norm_lv,columns=left_ventricle.columns)\n",
    "lv_df.head(3)"
   ]
  },
  {
   "cell_type": "code",
   "execution_count": 51,
   "metadata": {},
   "outputs": [],
   "source": [
    "from sklearn.decomposition import PCA\n",
    "from math import pi"
   ]
  },
  {
   "cell_type": "code",
   "execution_count": 52,
   "metadata": {},
   "outputs": [],
   "source": [
    "# Apply PCA on normalised dataset\n",
    "\n",
    "\n",
    "class convers_pca():\n",
    "    def __init__(self, no_of_components):\n",
    "        self.no_of_components = no_of_components\n",
    "        self.eigen_values = None\n",
    "        self.eigen_vectors = None\n",
    "        \n",
    "    def transform(self, x):\n",
    "        return np.dot(x - self.mean, self.projection_matrix.T)\n",
    "    \n",
    "    def inverse_transform(self, x):\n",
    "        return np.dot(x, self.projection_matrix) + self.mean\n",
    "    \n",
    "    def fit(self, x):\n",
    "        if self.no_of_components is None:\n",
    "            self.no_of_components = x.shape[1]\n",
    "        else:\n",
    "            self.no_of_components = self.no_of_components\n",
    "            \n",
    "            \n",
    "        self.mean = np.mean(x, axis=0)\n",
    "        \n",
    "        cov_matrix = np.cov(x - self.mean, rowvar=False)\n",
    "        \n",
    "        self.eigen_values, self.eigen_vectors = np.linalg.eig(cov_matrix)\n",
    "        self.eigen_vectors = self.eigen_vectors.T\n",
    "        \n",
    "        self.sorted_components = np.argsort(self.eigen_values)[::-1]\n",
    "        \n",
    "        self.projection_matrix = self.eigen_vectors[self.sorted_components[:self.no_of_components]]\n",
    "        self.explained_variance = self.eigen_values[self.sorted_components[:self.no_of_components]]\n",
    "        self.explained_variance_ratio = self.explained_variance / self.eigen_values.sum()"
   ]
  },
  {
   "cell_type": "code",
   "execution_count": 53,
   "metadata": {},
   "outputs": [
    {
     "data": {
      "text/plain": [
       "5"
      ]
     },
     "execution_count": 53,
     "metadata": {},
     "output_type": "execute_result"
    }
   ],
   "source": [
    "# Check how many components are required to retain 98% variance\n",
    "\n",
    "pca=PCA(0.98)\n",
    "pca_lv=pca.fit_transform(norm_lv)\n",
    "pca.n_components_"
   ]
  },
  {
   "cell_type": "code",
   "execution_count": 54,
   "metadata": {},
   "outputs": [],
   "source": [
    "# Create PCA with 6 components\n",
    "pca=convers_pca(no_of_components=5)\n",
    "pca.fit(norm_lv)"
   ]
  },
  {
   "cell_type": "code",
   "execution_count": 55,
   "metadata": {},
   "outputs": [
    {
     "data": {
      "text/plain": [
       "array([46.3866596 , 24.03815879, 14.14879355,  8.93545317,  5.21814907])"
      ]
     },
     "execution_count": 55,
     "metadata": {},
     "output_type": "execute_result"
    }
   ],
   "source": [
    "ratio=pca.explained_variance_ratio\n",
    "ratio*100"
   ]
  },
  {
   "cell_type": "code",
   "execution_count": 56,
   "metadata": {},
   "outputs": [],
   "source": [
    "# x = x_m + Pb\n",
    "# x_m --> mean \n",
    "# P   --> t eigenvectors (p1|p2|....|pt)\n",
    "# b   --> t vectors of weights (b1|b2|....|bt)T ,  -3 sqrt(lambda) < b_i < 3 sqrt(lambda)\n",
    "\n",
    "x_m=np.array(left_ventricle.mean())\n"
   ]
  },
  {
   "cell_type": "code",
   "execution_count": 57,
   "metadata": {},
   "outputs": [
    {
     "data": {
      "text/plain": [
       "array([[ 0.43628661,  0.33598798,  0.08492495,  0.6192987 ,  0.55264177],\n",
       "       [ 0.38193949,  0.20038955,  0.74563822, -0.10499724, -0.4075682 ],\n",
       "       [ 0.44661761, -0.48663089,  0.20189803, -0.22927718,  0.13916162],\n",
       "       [ 0.30545245, -0.68643438, -0.15048703,  0.13770111,  0.07286315],\n",
       "       [ 0.45530431,  0.14124868, -0.52274582,  0.24036378, -0.64202042],\n",
       "       [ 0.40460564,  0.3449683 , -0.31644753, -0.69002923,  0.30267148]])"
      ]
     },
     "execution_count": 57,
     "metadata": {},
     "output_type": "execute_result"
    }
   ],
   "source": [
    "p=pca.projection_matrix.T\n",
    "p"
   ]
  },
  {
   "cell_type": "code",
   "execution_count": 145,
   "metadata": {},
   "outputs": [],
   "source": [
    "b=pca.explained_variance\n",
    "lower_limit=-0.5*np.sqrt(b)\n",
    "upper_limit=.5*np.sqrt(b)"
   ]
  },
  {
   "cell_type": "code",
   "execution_count": 146,
   "metadata": {},
   "outputs": [],
   "source": [
    "#adjust 1st mode, set all other paramters to zero\n",
    "\n",
    "b1_low=np.concatenate((lower_limit[0],np.zeros(4)),axis=None).T\n",
    "b1_high=np.concatenate((upper_limit[0],np.zeros(4)),axis=None).T\n",
    "b2_low=np.concatenate((np.zeros(1),lower_limit[1],np.zeros(3)),axis=None).T\n",
    "b2_high=np.concatenate((np.zeros(1),upper_limit[1],np.zeros(3)),axis=None).T\n",
    "b3_low=np.concatenate((np.zeros(2),lower_limit[1],np.zeros(2)),axis=None).T\n",
    "b3_high=np.concatenate((np.zeros(2),upper_limit[1],np.zeros(2)),axis=None).T"
   ]
  },
  {
   "cell_type": "code",
   "execution_count": 147,
   "metadata": {},
   "outputs": [
    {
     "data": {
      "text/plain": [
       "array([[ 0.43628661,  0.33598798,  0.08492495,  0.6192987 ,  0.55264177],\n",
       "       [ 0.38193949,  0.20038955,  0.74563822, -0.10499724, -0.4075682 ],\n",
       "       [ 0.44661761, -0.48663089,  0.20189803, -0.22927718,  0.13916162],\n",
       "       [ 0.30545245, -0.68643438, -0.15048703,  0.13770111,  0.07286315],\n",
       "       [ 0.45530431,  0.14124868, -0.52274582,  0.24036378, -0.64202042],\n",
       "       [ 0.40460564,  0.3449683 , -0.31644753, -0.69002923,  0.30267148]])"
      ]
     },
     "execution_count": 147,
     "metadata": {},
     "output_type": "execute_result"
    }
   ],
   "source": [
    "p"
   ]
  },
  {
   "cell_type": "code",
   "execution_count": 131,
   "metadata": {},
   "outputs": [
    {
     "data": {
      "text/plain": [
       "array([-1.68851488,  0.        ,  0.        ,  0.        ,  0.        ])"
      ]
     },
     "execution_count": 131,
     "metadata": {},
     "output_type": "execute_result"
    }
   ],
   "source": [
    "\n",
    "b1_low\n"
   ]
  },
  {
   "cell_type": "code",
   "execution_count": 132,
   "metadata": {},
   "outputs": [
    {
     "data": {
      "text/plain": [
       "array([0.41023321, 0.85563999, 3.99960643, 2.18259569, 0.37512976,\n",
       "       1.08007535])"
      ]
     },
     "execution_count": 132,
     "metadata": {},
     "output_type": "execute_result"
    }
   ],
   "source": [
    "x1_low"
   ]
  },
  {
   "cell_type": "code",
   "execution_count": 148,
   "metadata": {},
   "outputs": [],
   "source": [
    "x1_low=x_m+ np.matmul(p,b1_low)\n",
    "x1_high=x_m+ np.matmul(p,b1_high)\n",
    "x2_low=x_m+ np.matmul(p,b2_low)\n",
    "x2_high=x_m+ np.matmul(p,b2_high)\n",
    "x3_low=x_m+ np.matmul(p,b3_low)\n",
    "x3_high=x_m+ np.matmul(p,b3_high)"
   ]
  },
  {
   "cell_type": "code",
   "execution_count": 134,
   "metadata": {
    "scrolled": true
   },
   "outputs": [
    {
     "data": {
      "text/html": [
       "<div>\n",
       "<style scoped>\n",
       "    .dataframe tbody tr th:only-of-type {\n",
       "        vertical-align: middle;\n",
       "    }\n",
       "\n",
       "    .dataframe tbody tr th {\n",
       "        vertical-align: top;\n",
       "    }\n",
       "\n",
       "    .dataframe thead th {\n",
       "        text-align: right;\n",
       "    }\n",
       "</style>\n",
       "<table border=\"1\" class=\"dataframe\">\n",
       "  <thead>\n",
       "    <tr style=\"text-align: right;\">\n",
       "      <th></th>\n",
       "      <th>IVSD__cm</th>\n",
       "      <th>IVSS__cm</th>\n",
       "      <th>LVIDD_cm</th>\n",
       "      <th>LVIDS_cm</th>\n",
       "      <th>LVPWD_cm</th>\n",
       "      <th>LVPWS_cm</th>\n",
       "    </tr>\n",
       "  </thead>\n",
       "  <tbody>\n",
       "    <tr>\n",
       "      <th>3</th>\n",
       "      <td>0.7</td>\n",
       "      <td>0.90</td>\n",
       "      <td>4.00</td>\n",
       "      <td>2.7</td>\n",
       "      <td>0.6</td>\n",
       "      <td>1.10</td>\n",
       "    </tr>\n",
       "    <tr>\n",
       "      <th>7</th>\n",
       "      <td>1.0</td>\n",
       "      <td>1.50</td>\n",
       "      <td>6.10</td>\n",
       "      <td>4.0</td>\n",
       "      <td>1.2</td>\n",
       "      <td>1.70</td>\n",
       "    </tr>\n",
       "    <tr>\n",
       "      <th>12</th>\n",
       "      <td>0.7</td>\n",
       "      <td>1.20</td>\n",
       "      <td>4.30</td>\n",
       "      <td>2.4</td>\n",
       "      <td>0.8</td>\n",
       "      <td>1.30</td>\n",
       "    </tr>\n",
       "    <tr>\n",
       "      <th>14</th>\n",
       "      <td>0.8</td>\n",
       "      <td>1.40</td>\n",
       "      <td>4.30</td>\n",
       "      <td>1.9</td>\n",
       "      <td>0.7</td>\n",
       "      <td>1.30</td>\n",
       "    </tr>\n",
       "    <tr>\n",
       "      <th>15</th>\n",
       "      <td>0.7</td>\n",
       "      <td>0.90</td>\n",
       "      <td>5.00</td>\n",
       "      <td>3.2</td>\n",
       "      <td>0.9</td>\n",
       "      <td>1.60</td>\n",
       "    </tr>\n",
       "    <tr>\n",
       "      <th>17</th>\n",
       "      <td>0.7</td>\n",
       "      <td>1.20</td>\n",
       "      <td>3.60</td>\n",
       "      <td>2.0</td>\n",
       "      <td>0.7</td>\n",
       "      <td>1.30</td>\n",
       "    </tr>\n",
       "    <tr>\n",
       "      <th>20</th>\n",
       "      <td>0.8</td>\n",
       "      <td>1.30</td>\n",
       "      <td>4.90</td>\n",
       "      <td>2.8</td>\n",
       "      <td>0.7</td>\n",
       "      <td>1.50</td>\n",
       "    </tr>\n",
       "    <tr>\n",
       "      <th>22</th>\n",
       "      <td>0.7</td>\n",
       "      <td>1.00</td>\n",
       "      <td>3.90</td>\n",
       "      <td>2.4</td>\n",
       "      <td>0.7</td>\n",
       "      <td>1.30</td>\n",
       "    </tr>\n",
       "    <tr>\n",
       "      <th>23</th>\n",
       "      <td>0.7</td>\n",
       "      <td>1.00</td>\n",
       "      <td>3.60</td>\n",
       "      <td>2.2</td>\n",
       "      <td>0.8</td>\n",
       "      <td>1.00</td>\n",
       "    </tr>\n",
       "    <tr>\n",
       "      <th>24</th>\n",
       "      <td>0.7</td>\n",
       "      <td>1.00</td>\n",
       "      <td>4.20</td>\n",
       "      <td>2.6</td>\n",
       "      <td>0.7</td>\n",
       "      <td>1.30</td>\n",
       "    </tr>\n",
       "    <tr>\n",
       "      <th>31</th>\n",
       "      <td>0.7</td>\n",
       "      <td>1.00</td>\n",
       "      <td>4.80</td>\n",
       "      <td>3.2</td>\n",
       "      <td>0.7</td>\n",
       "      <td>1.20</td>\n",
       "    </tr>\n",
       "    <tr>\n",
       "      <th>32</th>\n",
       "      <td>0.7</td>\n",
       "      <td>1.20</td>\n",
       "      <td>4.90</td>\n",
       "      <td>2.6</td>\n",
       "      <td>0.7</td>\n",
       "      <td>1.40</td>\n",
       "    </tr>\n",
       "    <tr>\n",
       "      <th>33</th>\n",
       "      <td>0.7</td>\n",
       "      <td>1.30</td>\n",
       "      <td>5.00</td>\n",
       "      <td>2.6</td>\n",
       "      <td>0.6</td>\n",
       "      <td>1.20</td>\n",
       "    </tr>\n",
       "    <tr>\n",
       "      <th>35</th>\n",
       "      <td>0.8</td>\n",
       "      <td>1.20</td>\n",
       "      <td>5.20</td>\n",
       "      <td>3.0</td>\n",
       "      <td>0.7</td>\n",
       "      <td>1.60</td>\n",
       "    </tr>\n",
       "    <tr>\n",
       "      <th>36</th>\n",
       "      <td>0.8</td>\n",
       "      <td>1.00</td>\n",
       "      <td>3.50</td>\n",
       "      <td>1.7</td>\n",
       "      <td>0.8</td>\n",
       "      <td>2.00</td>\n",
       "    </tr>\n",
       "    <tr>\n",
       "      <th>40</th>\n",
       "      <td>0.7</td>\n",
       "      <td>0.90</td>\n",
       "      <td>3.90</td>\n",
       "      <td>2.4</td>\n",
       "      <td>0.9</td>\n",
       "      <td>1.00</td>\n",
       "    </tr>\n",
       "    <tr>\n",
       "      <th>45</th>\n",
       "      <td>0.7</td>\n",
       "      <td>1.10</td>\n",
       "      <td>3.90</td>\n",
       "      <td>2.2</td>\n",
       "      <td>0.7</td>\n",
       "      <td>1.40</td>\n",
       "    </tr>\n",
       "    <tr>\n",
       "      <th>46</th>\n",
       "      <td>0.7</td>\n",
       "      <td>0.90</td>\n",
       "      <td>3.90</td>\n",
       "      <td>2.3</td>\n",
       "      <td>0.7</td>\n",
       "      <td>1.10</td>\n",
       "    </tr>\n",
       "    <tr>\n",
       "      <th>47</th>\n",
       "      <td>0.8</td>\n",
       "      <td>1.30</td>\n",
       "      <td>3.80</td>\n",
       "      <td>2.0</td>\n",
       "      <td>0.7</td>\n",
       "      <td>1.30</td>\n",
       "    </tr>\n",
       "    <tr>\n",
       "      <th>49</th>\n",
       "      <td>0.7</td>\n",
       "      <td>0.90</td>\n",
       "      <td>4.10</td>\n",
       "      <td>2.3</td>\n",
       "      <td>0.7</td>\n",
       "      <td>1.40</td>\n",
       "    </tr>\n",
       "    <tr>\n",
       "      <th>50</th>\n",
       "      <td>0.7</td>\n",
       "      <td>1.48</td>\n",
       "      <td>4.52</td>\n",
       "      <td>2.6</td>\n",
       "      <td>0.7</td>\n",
       "      <td>1.51</td>\n",
       "    </tr>\n",
       "    <tr>\n",
       "      <th>51</th>\n",
       "      <td>0.7</td>\n",
       "      <td>1.00</td>\n",
       "      <td>4.30</td>\n",
       "      <td>2.3</td>\n",
       "      <td>0.8</td>\n",
       "      <td>1.90</td>\n",
       "    </tr>\n",
       "    <tr>\n",
       "      <th>52</th>\n",
       "      <td>0.7</td>\n",
       "      <td>0.80</td>\n",
       "      <td>4.10</td>\n",
       "      <td>2.6</td>\n",
       "      <td>0.7</td>\n",
       "      <td>1.20</td>\n",
       "    </tr>\n",
       "    <tr>\n",
       "      <th>53</th>\n",
       "      <td>0.7</td>\n",
       "      <td>1.00</td>\n",
       "      <td>4.60</td>\n",
       "      <td>2.9</td>\n",
       "      <td>0.7</td>\n",
       "      <td>1.00</td>\n",
       "    </tr>\n",
       "    <tr>\n",
       "      <th>55</th>\n",
       "      <td>0.7</td>\n",
       "      <td>1.40</td>\n",
       "      <td>4.60</td>\n",
       "      <td>2.3</td>\n",
       "      <td>0.9</td>\n",
       "      <td>1.40</td>\n",
       "    </tr>\n",
       "    <tr>\n",
       "      <th>56</th>\n",
       "      <td>0.9</td>\n",
       "      <td>1.20</td>\n",
       "      <td>3.90</td>\n",
       "      <td>1.9</td>\n",
       "      <td>0.7</td>\n",
       "      <td>1.40</td>\n",
       "    </tr>\n",
       "    <tr>\n",
       "      <th>57</th>\n",
       "      <td>0.9</td>\n",
       "      <td>1.50</td>\n",
       "      <td>5.00</td>\n",
       "      <td>2.3</td>\n",
       "      <td>1.0</td>\n",
       "      <td>2.10</td>\n",
       "    </tr>\n",
       "    <tr>\n",
       "      <th>63</th>\n",
       "      <td>0.7</td>\n",
       "      <td>1.10</td>\n",
       "      <td>4.70</td>\n",
       "      <td>3.2</td>\n",
       "      <td>0.7</td>\n",
       "      <td>1.40</td>\n",
       "    </tr>\n",
       "    <tr>\n",
       "      <th>64</th>\n",
       "      <td>1.2</td>\n",
       "      <td>1.50</td>\n",
       "      <td>4.80</td>\n",
       "      <td>2.9</td>\n",
       "      <td>1.4</td>\n",
       "      <td>2.10</td>\n",
       "    </tr>\n",
       "    <tr>\n",
       "      <th>65</th>\n",
       "      <td>0.7</td>\n",
       "      <td>1.00</td>\n",
       "      <td>3.10</td>\n",
       "      <td>1.4</td>\n",
       "      <td>0.7</td>\n",
       "      <td>1.50</td>\n",
       "    </tr>\n",
       "    <tr>\n",
       "      <th>67</th>\n",
       "      <td>0.9</td>\n",
       "      <td>1.10</td>\n",
       "      <td>4.00</td>\n",
       "      <td>2.4</td>\n",
       "      <td>0.7</td>\n",
       "      <td>1.50</td>\n",
       "    </tr>\n",
       "    <tr>\n",
       "      <th>68</th>\n",
       "      <td>0.9</td>\n",
       "      <td>1.10</td>\n",
       "      <td>4.70</td>\n",
       "      <td>2.6</td>\n",
       "      <td>1.0</td>\n",
       "      <td>1.80</td>\n",
       "    </tr>\n",
       "    <tr>\n",
       "      <th>69</th>\n",
       "      <td>0.8</td>\n",
       "      <td>1.60</td>\n",
       "      <td>5.10</td>\n",
       "      <td>2.5</td>\n",
       "      <td>0.6</td>\n",
       "      <td>1.40</td>\n",
       "    </tr>\n",
       "    <tr>\n",
       "      <th>73</th>\n",
       "      <td>0.7</td>\n",
       "      <td>1.20</td>\n",
       "      <td>4.90</td>\n",
       "      <td>3.1</td>\n",
       "      <td>0.7</td>\n",
       "      <td>1.10</td>\n",
       "    </tr>\n",
       "    <tr>\n",
       "      <th>74</th>\n",
       "      <td>0.7</td>\n",
       "      <td>1.40</td>\n",
       "      <td>4.90</td>\n",
       "      <td>2.1</td>\n",
       "      <td>0.8</td>\n",
       "      <td>1.80</td>\n",
       "    </tr>\n",
       "    <tr>\n",
       "      <th>75</th>\n",
       "      <td>0.8</td>\n",
       "      <td>1.00</td>\n",
       "      <td>4.90</td>\n",
       "      <td>2.8</td>\n",
       "      <td>0.6</td>\n",
       "      <td>1.40</td>\n",
       "    </tr>\n",
       "    <tr>\n",
       "      <th>78</th>\n",
       "      <td>0.9</td>\n",
       "      <td>1.00</td>\n",
       "      <td>4.20</td>\n",
       "      <td>1.9</td>\n",
       "      <td>0.7</td>\n",
       "      <td>1.40</td>\n",
       "    </tr>\n",
       "    <tr>\n",
       "      <th>79</th>\n",
       "      <td>0.7</td>\n",
       "      <td>1.30</td>\n",
       "      <td>4.20</td>\n",
       "      <td>1.9</td>\n",
       "      <td>0.7</td>\n",
       "      <td>1.50</td>\n",
       "    </tr>\n",
       "    <tr>\n",
       "      <th>80</th>\n",
       "      <td>0.9</td>\n",
       "      <td>1.30</td>\n",
       "      <td>3.80</td>\n",
       "      <td>1.7</td>\n",
       "      <td>0.7</td>\n",
       "      <td>1.60</td>\n",
       "    </tr>\n",
       "    <tr>\n",
       "      <th>82</th>\n",
       "      <td>1.0</td>\n",
       "      <td>1.40</td>\n",
       "      <td>4.00</td>\n",
       "      <td>1.9</td>\n",
       "      <td>0.7</td>\n",
       "      <td>1.00</td>\n",
       "    </tr>\n",
       "    <tr>\n",
       "      <th>83</th>\n",
       "      <td>1.0</td>\n",
       "      <td>1.60</td>\n",
       "      <td>5.00</td>\n",
       "      <td>2.7</td>\n",
       "      <td>0.7</td>\n",
       "      <td>1.50</td>\n",
       "    </tr>\n",
       "    <tr>\n",
       "      <th>85</th>\n",
       "      <td>0.7</td>\n",
       "      <td>1.30</td>\n",
       "      <td>3.60</td>\n",
       "      <td>2.0</td>\n",
       "      <td>0.7</td>\n",
       "      <td>1.20</td>\n",
       "    </tr>\n",
       "  </tbody>\n",
       "</table>\n",
       "</div>"
      ],
      "text/plain": [
       "    IVSD__cm  IVSS__cm  LVIDD_cm  LVIDS_cm  LVPWD_cm  LVPWS_cm\n",
       "3        0.7      0.90      4.00       2.7       0.6      1.10\n",
       "7        1.0      1.50      6.10       4.0       1.2      1.70\n",
       "12       0.7      1.20      4.30       2.4       0.8      1.30\n",
       "14       0.8      1.40      4.30       1.9       0.7      1.30\n",
       "15       0.7      0.90      5.00       3.2       0.9      1.60\n",
       "17       0.7      1.20      3.60       2.0       0.7      1.30\n",
       "20       0.8      1.30      4.90       2.8       0.7      1.50\n",
       "22       0.7      1.00      3.90       2.4       0.7      1.30\n",
       "23       0.7      1.00      3.60       2.2       0.8      1.00\n",
       "24       0.7      1.00      4.20       2.6       0.7      1.30\n",
       "31       0.7      1.00      4.80       3.2       0.7      1.20\n",
       "32       0.7      1.20      4.90       2.6       0.7      1.40\n",
       "33       0.7      1.30      5.00       2.6       0.6      1.20\n",
       "35       0.8      1.20      5.20       3.0       0.7      1.60\n",
       "36       0.8      1.00      3.50       1.7       0.8      2.00\n",
       "40       0.7      0.90      3.90       2.4       0.9      1.00\n",
       "45       0.7      1.10      3.90       2.2       0.7      1.40\n",
       "46       0.7      0.90      3.90       2.3       0.7      1.10\n",
       "47       0.8      1.30      3.80       2.0       0.7      1.30\n",
       "49       0.7      0.90      4.10       2.3       0.7      1.40\n",
       "50       0.7      1.48      4.52       2.6       0.7      1.51\n",
       "51       0.7      1.00      4.30       2.3       0.8      1.90\n",
       "52       0.7      0.80      4.10       2.6       0.7      1.20\n",
       "53       0.7      1.00      4.60       2.9       0.7      1.00\n",
       "55       0.7      1.40      4.60       2.3       0.9      1.40\n",
       "56       0.9      1.20      3.90       1.9       0.7      1.40\n",
       "57       0.9      1.50      5.00       2.3       1.0      2.10\n",
       "63       0.7      1.10      4.70       3.2       0.7      1.40\n",
       "64       1.2      1.50      4.80       2.9       1.4      2.10\n",
       "65       0.7      1.00      3.10       1.4       0.7      1.50\n",
       "67       0.9      1.10      4.00       2.4       0.7      1.50\n",
       "68       0.9      1.10      4.70       2.6       1.0      1.80\n",
       "69       0.8      1.60      5.10       2.5       0.6      1.40\n",
       "73       0.7      1.20      4.90       3.1       0.7      1.10\n",
       "74       0.7      1.40      4.90       2.1       0.8      1.80\n",
       "75       0.8      1.00      4.90       2.8       0.6      1.40\n",
       "78       0.9      1.00      4.20       1.9       0.7      1.40\n",
       "79       0.7      1.30      4.20       1.9       0.7      1.50\n",
       "80       0.9      1.30      3.80       1.7       0.7      1.60\n",
       "82       1.0      1.40      4.00       1.9       0.7      1.00\n",
       "83       1.0      1.60      5.00       2.7       0.7      1.50\n",
       "85       0.7      1.30      3.60       2.0       0.7      1.20"
      ]
     },
     "execution_count": 134,
     "metadata": {},
     "output_type": "execute_result"
    }
   ],
   "source": [
    "left_ventricle"
   ]
  },
  {
   "cell_type": "code",
   "execution_count": 135,
   "metadata": {},
   "outputs": [],
   "source": [
    "\n",
    "x1=pd.DataFrame(np.round(x1_low,2).reshape(-1,6),columns=left_ventricle.columns) \n",
    "x2=pd.DataFrame(np.round(x_m,2).reshape(-1,6),columns=left_ventricle.columns) \n",
    "x3=pd.DataFrame(np.round(x1_high,2).reshape(-1,6),columns=left_ventricle.columns)"
   ]
  },
  {
   "cell_type": "code",
   "execution_count": 136,
   "metadata": {},
   "outputs": [
    {
     "data": {
      "text/html": [
       "<div>\n",
       "<style scoped>\n",
       "    .dataframe tbody tr th:only-of-type {\n",
       "        vertical-align: middle;\n",
       "    }\n",
       "\n",
       "    .dataframe tbody tr th {\n",
       "        vertical-align: top;\n",
       "    }\n",
       "\n",
       "    .dataframe thead th {\n",
       "        text-align: right;\n",
       "    }\n",
       "</style>\n",
       "<table border=\"1\" class=\"dataframe\">\n",
       "  <thead>\n",
       "    <tr style=\"text-align: right;\">\n",
       "      <th></th>\n",
       "      <th>IVSD__cm</th>\n",
       "      <th>IVSS__cm</th>\n",
       "      <th>LVIDD_cm</th>\n",
       "      <th>LVIDS_cm</th>\n",
       "      <th>LVPWD_cm</th>\n",
       "      <th>LVPWS_cm</th>\n",
       "    </tr>\n",
       "  </thead>\n",
       "  <tbody>\n",
       "    <tr>\n",
       "      <th>0</th>\n",
       "      <td>0.04</td>\n",
       "      <td>0.53</td>\n",
       "      <td>3.62</td>\n",
       "      <td>1.92</td>\n",
       "      <td>-0.01</td>\n",
       "      <td>0.74</td>\n",
       "    </tr>\n",
       "  </tbody>\n",
       "</table>\n",
       "</div>"
      ],
      "text/plain": [
       "   IVSD__cm  IVSS__cm  LVIDD_cm  LVIDS_cm  LVPWD_cm  LVPWS_cm\n",
       "0      0.04      0.53      3.62      1.92     -0.01      0.74"
      ]
     },
     "execution_count": 136,
     "metadata": {},
     "output_type": "execute_result"
    }
   ],
   "source": [
    "x1"
   ]
  },
  {
   "cell_type": "code",
   "execution_count": 137,
   "metadata": {},
   "outputs": [
    {
     "data": {
      "text/html": [
       "<div>\n",
       "<style scoped>\n",
       "    .dataframe tbody tr th:only-of-type {\n",
       "        vertical-align: middle;\n",
       "    }\n",
       "\n",
       "    .dataframe tbody tr th {\n",
       "        vertical-align: top;\n",
       "    }\n",
       "\n",
       "    .dataframe thead th {\n",
       "        text-align: right;\n",
       "    }\n",
       "</style>\n",
       "<table border=\"1\" class=\"dataframe\">\n",
       "  <thead>\n",
       "    <tr style=\"text-align: right;\">\n",
       "      <th></th>\n",
       "      <th>IVSD__cm</th>\n",
       "      <th>IVSS__cm</th>\n",
       "      <th>LVIDD_cm</th>\n",
       "      <th>LVIDS_cm</th>\n",
       "      <th>LVPWD_cm</th>\n",
       "      <th>LVPWS_cm</th>\n",
       "    </tr>\n",
       "  </thead>\n",
       "  <tbody>\n",
       "    <tr>\n",
       "      <th>0</th>\n",
       "      <td>0.78</td>\n",
       "      <td>1.18</td>\n",
       "      <td>4.38</td>\n",
       "      <td>2.44</td>\n",
       "      <td>0.76</td>\n",
       "      <td>1.42</td>\n",
       "    </tr>\n",
       "  </tbody>\n",
       "</table>\n",
       "</div>"
      ],
      "text/plain": [
       "   IVSD__cm  IVSS__cm  LVIDD_cm  LVIDS_cm  LVPWD_cm  LVPWS_cm\n",
       "0      0.78      1.18      4.38      2.44      0.76      1.42"
      ]
     },
     "execution_count": 137,
     "metadata": {},
     "output_type": "execute_result"
    }
   ],
   "source": [
    "x2"
   ]
  },
  {
   "cell_type": "code",
   "execution_count": 138,
   "metadata": {},
   "outputs": [
    {
     "data": {
      "text/html": [
       "<div>\n",
       "<style scoped>\n",
       "    .dataframe tbody tr th:only-of-type {\n",
       "        vertical-align: middle;\n",
       "    }\n",
       "\n",
       "    .dataframe tbody tr th {\n",
       "        vertical-align: top;\n",
       "    }\n",
       "\n",
       "    .dataframe thead th {\n",
       "        text-align: right;\n",
       "    }\n",
       "</style>\n",
       "<table border=\"1\" class=\"dataframe\">\n",
       "  <thead>\n",
       "    <tr style=\"text-align: right;\">\n",
       "      <th></th>\n",
       "      <th>IVSD__cm</th>\n",
       "      <th>IVSS__cm</th>\n",
       "      <th>LVIDD_cm</th>\n",
       "      <th>LVIDS_cm</th>\n",
       "      <th>LVPWD_cm</th>\n",
       "      <th>LVPWS_cm</th>\n",
       "    </tr>\n",
       "  </thead>\n",
       "  <tbody>\n",
       "    <tr>\n",
       "      <th>0</th>\n",
       "      <td>1.52</td>\n",
       "      <td>1.82</td>\n",
       "      <td>5.13</td>\n",
       "      <td>2.96</td>\n",
       "      <td>1.53</td>\n",
       "      <td>2.1</td>\n",
       "    </tr>\n",
       "  </tbody>\n",
       "</table>\n",
       "</div>"
      ],
      "text/plain": [
       "   IVSD__cm  IVSS__cm  LVIDD_cm  LVIDS_cm  LVPWD_cm  LVPWS_cm\n",
       "0      1.52      1.82      5.13      2.96      1.53       2.1"
      ]
     },
     "execution_count": 138,
     "metadata": {},
     "output_type": "execute_result"
    }
   ],
   "source": [
    "x3"
   ]
  },
  {
   "cell_type": "code",
   "execution_count": 139,
   "metadata": {},
   "outputs": [
    {
     "data": {
      "image/png": "[encoded data removed]",
      "text/plain": [
       "<Figure size 432x288 with 1 Axes>"
      ]
     },
     "metadata": {
      "needs_background": "light"
     },
     "output_type": "display_data"
    },
    {
     "data": {
      "image/png": "[encoded data removed]",
      "text/plain": [
       "<Figure size 432x288 with 1 Axes>"
      ]
     },
     "metadata": {
      "needs_background": "light"
     },
     "output_type": "display_data"
    },
    {
     "data": {
      "image/png": "[encoded data removed]",
      "text/plain": [
       "<Figure size 432x288 with 1 Axes>"
      ]
     },
     "metadata": {
      "needs_background": "light"
     },
     "output_type": "display_data"
    },
    {
     "data": {
      "text/plain": [
       "(None, None, None)"
      ]
     },
     "execution_count": 139,
     "metadata": {},
     "output_type": "execute_result"
    }
   ],
   "source": [
    "# Adjusting PC1\n",
    "\n",
    "draw_shape(x1_low),draw_shape(x_m),draw_shape(x1_high)"
   ]
  },
  {
   "cell_type": "code",
   "execution_count": 114,
   "metadata": {},
   "outputs": [
    {
     "data": {
      "text/plain": [
       "1.5"
      ]
     },
     "execution_count": 114,
     "metadata": {},
     "output_type": "execute_result"
    }
   ],
   "source": [
    "df[\"IVSD__cm\"].max()"
   ]
  },
  {
   "cell_type": "code",
   "execution_count": null,
   "metadata": {},
   "outputs": [],
   "source": []
  },
  {
   "cell_type": "code",
   "execution_count": 115,
   "metadata": {},
   "outputs": [
    {
     "data": {
      "text/plain": [
       "(array([0.3701743 , 0.93451951, 4.96817194, 3.27484483, 0.58783447,\n",
       "        1.00235385]),\n",
       " array([0.77857143, 1.17809524, 4.37666667, 2.44047619, 0.75952381,\n",
       "        1.42166667]),\n",
       " array([1.18696856, 1.42167096, 3.7851614 , 1.60610755, 0.93121315,\n",
       "        1.84097948]))"
      ]
     },
     "execution_count": 115,
     "metadata": {},
     "output_type": "execute_result"
    }
   ],
   "source": [
    "x2_low,x_m,x2_high"
   ]
  },
  {
   "cell_type": "code",
   "execution_count": 123,
   "metadata": {},
   "outputs": [],
   "source": [
    "\n",
    "x1=pd.DataFrame(np.round(x2_low,2).reshape(-1,6),columns=left_ventricle.columns) \n",
    "x2=pd.DataFrame(np.round(x_m,2).reshape(-1,6),columns=left_ventricle.columns) \n",
    "x3=pd.DataFrame(np.round(x2_high,2).reshape(-1,6),columns=left_ventricle.columns)"
   ]
  },
  {
   "cell_type": "code",
   "execution_count": 124,
   "metadata": {},
   "outputs": [
    {
     "data": {
      "text/html": [
       "<div>\n",
       "<style scoped>\n",
       "    .dataframe tbody tr th:only-of-type {\n",
       "        vertical-align: middle;\n",
       "    }\n",
       "\n",
       "    .dataframe tbody tr th {\n",
       "        vertical-align: top;\n",
       "    }\n",
       "\n",
       "    .dataframe thead th {\n",
       "        text-align: right;\n",
       "    }\n",
       "</style>\n",
       "<table border=\"1\" class=\"dataframe\">\n",
       "  <thead>\n",
       "    <tr style=\"text-align: right;\">\n",
       "      <th></th>\n",
       "      <th>IVSD__cm</th>\n",
       "      <th>IVSS__cm</th>\n",
       "      <th>LVIDD_cm</th>\n",
       "      <th>LVIDS_cm</th>\n",
       "      <th>LVPWD_cm</th>\n",
       "      <th>LVPWS_cm</th>\n",
       "    </tr>\n",
       "  </thead>\n",
       "  <tbody>\n",
       "    <tr>\n",
       "      <th>0</th>\n",
       "      <td>0.57</td>\n",
       "      <td>1.06</td>\n",
       "      <td>4.67</td>\n",
       "      <td>2.86</td>\n",
       "      <td>0.67</td>\n",
       "      <td>1.21</td>\n",
       "    </tr>\n",
       "  </tbody>\n",
       "</table>\n",
       "</div>"
      ],
      "text/plain": [
       "   IVSD__cm  IVSS__cm  LVIDD_cm  LVIDS_cm  LVPWD_cm  LVPWS_cm\n",
       "0      0.57      1.06      4.67      2.86      0.67      1.21"
      ]
     },
     "execution_count": 124,
     "metadata": {},
     "output_type": "execute_result"
    }
   ],
   "source": [
    "x1"
   ]
  },
  {
   "cell_type": "code",
   "execution_count": 125,
   "metadata": {},
   "outputs": [
    {
     "data": {
      "text/html": [
       "<div>\n",
       "<style scoped>\n",
       "    .dataframe tbody tr th:only-of-type {\n",
       "        vertical-align: middle;\n",
       "    }\n",
       "\n",
       "    .dataframe tbody tr th {\n",
       "        vertical-align: top;\n",
       "    }\n",
       "\n",
       "    .dataframe thead th {\n",
       "        text-align: right;\n",
       "    }\n",
       "</style>\n",
       "<table border=\"1\" class=\"dataframe\">\n",
       "  <thead>\n",
       "    <tr style=\"text-align: right;\">\n",
       "      <th></th>\n",
       "      <th>IVSD__cm</th>\n",
       "      <th>IVSS__cm</th>\n",
       "      <th>LVIDD_cm</th>\n",
       "      <th>LVIDS_cm</th>\n",
       "      <th>LVPWD_cm</th>\n",
       "      <th>LVPWS_cm</th>\n",
       "    </tr>\n",
       "  </thead>\n",
       "  <tbody>\n",
       "    <tr>\n",
       "      <th>0</th>\n",
       "      <td>0.98</td>\n",
       "      <td>1.3</td>\n",
       "      <td>4.08</td>\n",
       "      <td>2.02</td>\n",
       "      <td>0.85</td>\n",
       "      <td>1.63</td>\n",
       "    </tr>\n",
       "  </tbody>\n",
       "</table>\n",
       "</div>"
      ],
      "text/plain": [
       "   IVSD__cm  IVSS__cm  LVIDD_cm  LVIDS_cm  LVPWD_cm  LVPWS_cm\n",
       "0      0.98       1.3      4.08      2.02      0.85      1.63"
      ]
     },
     "execution_count": 125,
     "metadata": {},
     "output_type": "execute_result"
    }
   ],
   "source": [
    "x3"
   ]
  },
  {
   "cell_type": "code",
   "execution_count": 149,
   "metadata": {},
   "outputs": [
    {
     "data": {
      "image/png": "[encoded data removed]",
      "text/plain": [
       "<Figure size 432x288 with 1 Axes>"
      ]
     },
     "metadata": {
      "needs_background": "light"
     },
     "output_type": "display_data"
    },
    {
     "data": {
      "image/png": "[encoded data removed]",
      "text/plain": [
       "<Figure size 432x288 with 1 Axes>"
      ]
     },
     "metadata": {
      "needs_background": "light"
     },
     "output_type": "display_data"
    },
    {
     "data": {
      "image/png": "[encoded data removed]",
      "text/plain": [
       "<Figure size 432x288 with 1 Axes>"
      ]
     },
     "metadata": {
      "needs_background": "light"
     },
     "output_type": "display_data"
    },
    {
     "data": {
      "text/plain": [
       "(None, None, None)"
      ]
     },
     "execution_count": 149,
     "metadata": {},
     "output_type": "execute_result"
    }
   ],
   "source": [
    "#Adjusting PC2\n",
    "draw_shape(x2_low),draw_shape(x_m),draw_shape(x2_high)"
   ]
  },
  {
   "cell_type": "code",
   "execution_count": 73,
   "metadata": {},
   "outputs": [
    {
     "data": {
      "text/plain": [
       "(array([0.72695782, 0.72492946, 4.25396202, 2.53193552, 1.07722549,\n",
       "        1.61398942]),\n",
       " array([0.77857143, 1.17809524, 4.37666667, 2.44047619, 0.75952381,\n",
       "        1.42166667]),\n",
       " array([0.83018504, 1.63126102, 4.49937132, 2.34901686, 0.44182212,\n",
       "        1.22934392]))"
      ]
     },
     "execution_count": 73,
     "metadata": {},
     "output_type": "execute_result"
    }
   ],
   "source": [
    "x3_low,x_m,x3_high"
   ]
  },
  {
   "cell_type": "code",
   "execution_count": 74,
   "metadata": {},
   "outputs": [
    {
     "data": {
      "text/html": [
       "<div>\n",
       "<style scoped>\n",
       "    .dataframe tbody tr th:only-of-type {\n",
       "        vertical-align: middle;\n",
       "    }\n",
       "\n",
       "    .dataframe tbody tr th {\n",
       "        vertical-align: top;\n",
       "    }\n",
       "\n",
       "    .dataframe thead th {\n",
       "        text-align: right;\n",
       "    }\n",
       "</style>\n",
       "<table border=\"1\" class=\"dataframe\">\n",
       "  <thead>\n",
       "    <tr style=\"text-align: right;\">\n",
       "      <th></th>\n",
       "      <th>IVSD__cm</th>\n",
       "      <th>IVSS__cm</th>\n",
       "      <th>LVIDD_cm</th>\n",
       "      <th>LVIDS_cm</th>\n",
       "      <th>LVPWD_cm</th>\n",
       "      <th>LVPWS_cm</th>\n",
       "    </tr>\n",
       "  </thead>\n",
       "  <tbody>\n",
       "    <tr>\n",
       "      <th>3</th>\n",
       "      <td>0.7</td>\n",
       "      <td>0.9</td>\n",
       "      <td>4.0</td>\n",
       "      <td>2.7</td>\n",
       "      <td>0.6</td>\n",
       "      <td>1.1</td>\n",
       "    </tr>\n",
       "    <tr>\n",
       "      <th>7</th>\n",
       "      <td>1.0</td>\n",
       "      <td>1.5</td>\n",
       "      <td>6.1</td>\n",
       "      <td>4.0</td>\n",
       "      <td>1.2</td>\n",
       "      <td>1.7</td>\n",
       "    </tr>\n",
       "    <tr>\n",
       "      <th>12</th>\n",
       "      <td>0.7</td>\n",
       "      <td>1.2</td>\n",
       "      <td>4.3</td>\n",
       "      <td>2.4</td>\n",
       "      <td>0.8</td>\n",
       "      <td>1.3</td>\n",
       "    </tr>\n",
       "    <tr>\n",
       "      <th>14</th>\n",
       "      <td>0.8</td>\n",
       "      <td>1.4</td>\n",
       "      <td>4.3</td>\n",
       "      <td>1.9</td>\n",
       "      <td>0.7</td>\n",
       "      <td>1.3</td>\n",
       "    </tr>\n",
       "    <tr>\n",
       "      <th>15</th>\n",
       "      <td>0.7</td>\n",
       "      <td>0.9</td>\n",
       "      <td>5.0</td>\n",
       "      <td>3.2</td>\n",
       "      <td>0.9</td>\n",
       "      <td>1.6</td>\n",
       "    </tr>\n",
       "  </tbody>\n",
       "</table>\n",
       "</div>"
      ],
      "text/plain": [
       "    IVSD__cm  IVSS__cm  LVIDD_cm  LVIDS_cm  LVPWD_cm  LVPWS_cm\n",
       "3        0.7       0.9       4.0       2.7       0.6       1.1\n",
       "7        1.0       1.5       6.1       4.0       1.2       1.7\n",
       "12       0.7       1.2       4.3       2.4       0.8       1.3\n",
       "14       0.8       1.4       4.3       1.9       0.7       1.3\n",
       "15       0.7       0.9       5.0       3.2       0.9       1.6"
      ]
     },
     "execution_count": 74,
     "metadata": {},
     "output_type": "execute_result"
    }
   ],
   "source": [
    "left_ventricle.head()"
   ]
  },
  {
   "cell_type": "code",
   "execution_count": 150,
   "metadata": {},
   "outputs": [],
   "source": [
    "x1=pd.DataFrame(np.round(x3_low,2).reshape(-1,6),columns=left_ventricle.columns) \n",
    "x3=pd.DataFrame(np.round(x3_high,2).reshape(-1,6),columns=left_ventricle.columns)"
   ]
  },
  {
   "cell_type": "code",
   "execution_count": 151,
   "metadata": {},
   "outputs": [
    {
     "data": {
      "text/html": [
       "<div>\n",
       "<style scoped>\n",
       "    .dataframe tbody tr th:only-of-type {\n",
       "        vertical-align: middle;\n",
       "    }\n",
       "\n",
       "    .dataframe tbody tr th {\n",
       "        vertical-align: top;\n",
       "    }\n",
       "\n",
       "    .dataframe thead th {\n",
       "        text-align: right;\n",
       "    }\n",
       "</style>\n",
       "<table border=\"1\" class=\"dataframe\">\n",
       "  <thead>\n",
       "    <tr style=\"text-align: right;\">\n",
       "      <th></th>\n",
       "      <th>IVSD__cm</th>\n",
       "      <th>IVSS__cm</th>\n",
       "      <th>LVIDD_cm</th>\n",
       "      <th>LVIDS_cm</th>\n",
       "      <th>LVPWD_cm</th>\n",
       "      <th>LVPWS_cm</th>\n",
       "    </tr>\n",
       "  </thead>\n",
       "  <tbody>\n",
       "    <tr>\n",
       "      <th>0</th>\n",
       "      <td>0.73</td>\n",
       "      <td>0.72</td>\n",
       "      <td>4.25</td>\n",
       "      <td>2.53</td>\n",
       "      <td>1.08</td>\n",
       "      <td>1.61</td>\n",
       "    </tr>\n",
       "  </tbody>\n",
       "</table>\n",
       "</div>"
      ],
      "text/plain": [
       "   IVSD__cm  IVSS__cm  LVIDD_cm  LVIDS_cm  LVPWD_cm  LVPWS_cm\n",
       "0      0.73      0.72      4.25      2.53      1.08      1.61"
      ]
     },
     "execution_count": 151,
     "metadata": {},
     "output_type": "execute_result"
    }
   ],
   "source": [
    "x1"
   ]
  },
  {
   "cell_type": "code",
   "execution_count": 152,
   "metadata": {},
   "outputs": [
    {
     "data": {
      "text/html": [
       "<div>\n",
       "<style scoped>\n",
       "    .dataframe tbody tr th:only-of-type {\n",
       "        vertical-align: middle;\n",
       "    }\n",
       "\n",
       "    .dataframe tbody tr th {\n",
       "        vertical-align: top;\n",
       "    }\n",
       "\n",
       "    .dataframe thead th {\n",
       "        text-align: right;\n",
       "    }\n",
       "</style>\n",
       "<table border=\"1\" class=\"dataframe\">\n",
       "  <thead>\n",
       "    <tr style=\"text-align: right;\">\n",
       "      <th></th>\n",
       "      <th>IVSD__cm</th>\n",
       "      <th>IVSS__cm</th>\n",
       "      <th>LVIDD_cm</th>\n",
       "      <th>LVIDS_cm</th>\n",
       "      <th>LVPWD_cm</th>\n",
       "      <th>LVPWS_cm</th>\n",
       "    </tr>\n",
       "  </thead>\n",
       "  <tbody>\n",
       "    <tr>\n",
       "      <th>0</th>\n",
       "      <td>0.83</td>\n",
       "      <td>1.63</td>\n",
       "      <td>4.5</td>\n",
       "      <td>2.35</td>\n",
       "      <td>0.44</td>\n",
       "      <td>1.23</td>\n",
       "    </tr>\n",
       "  </tbody>\n",
       "</table>\n",
       "</div>"
      ],
      "text/plain": [
       "   IVSD__cm  IVSS__cm  LVIDD_cm  LVIDS_cm  LVPWD_cm  LVPWS_cm\n",
       "0      0.83      1.63       4.5      2.35      0.44      1.23"
      ]
     },
     "execution_count": 152,
     "metadata": {},
     "output_type": "execute_result"
    }
   ],
   "source": [
    "x3"
   ]
  },
  {
   "cell_type": "code",
   "execution_count": 153,
   "metadata": {},
   "outputs": [
    {
     "data": {
      "image/png": "[encoded data removed]",
      "text/plain": [
       "<Figure size 432x288 with 1 Axes>"
      ]
     },
     "metadata": {
      "needs_background": "light"
     },
     "output_type": "display_data"
    },
    {
     "data": {
      "image/png": "[encoded data removed]",
      "text/plain": [
       "<Figure size 432x288 with 1 Axes>"
      ]
     },
     "metadata": {
      "needs_background": "light"
     },
     "output_type": "display_data"
    },
    {
     "data": {
      "image/png": "[encoded data removed]",
      "text/plain": [
       "<Figure size 432x288 with 1 Axes>"
      ]
     },
     "metadata": {
      "needs_background": "light"
     },
     "output_type": "display_data"
    },
    {
     "data": {
      "text/plain": [
       "(None, None, None)"
      ]
     },
     "execution_count": 153,
     "metadata": {},
     "output_type": "execute_result"
    }
   ],
   "source": [
    "draw_shape(x3_low),draw_shape(x_m),draw_shape(x3_high)"
   ]
  },
  {
   "cell_type": "code",
   "execution_count": null,
   "metadata": {},
   "outputs": [],
   "source": []
  },
  {
   "cell_type": "code",
   "execution_count": null,
   "metadata": {},
   "outputs": [],
   "source": []
  }
 ],
 "metadata": {
  "kernelspec": {
   "display_name": "Python 3",
   "language": "python",
   "name": "python3"
  },
  "language_info": {
   "codemirror_mode": {
    "name": "ipython",
    "version": 3
   },
   "file_extension": ".py",
   "mimetype": "text/x-python",
   "name": "python",
   "nbconvert_exporter": "python",
   "pygments_lexer": "ipython3",
   "version": "3.8.5"
  }
 },
 "nbformat": 4,
 "nbformat_minor": 4
}
