{
 "cells": [
  {
   "cell_type": "code",
   "execution_count": 1,
   "metadata": {},
   "outputs": [],
   "source": [
    "import numpy as np\n",
    "import matplotlib.pyplot as plt\n",
    "import seaborn as sns\n",
    "import pandas as pd\n",
    "from math import pi\n",
    "from matplotlib import axes as axes\n",
    "\n",
    "%matplotlib inline"
   ]
  },
  {
   "cell_type": "markdown",
   "metadata": {},
   "source": [
    "# Data preprocessing"
   ]
  },
  {
   "cell_type": "code",
   "execution_count": 2,
   "metadata": {},
   "outputs": [],
   "source": [
    "df=pd.read_csv(\"urop.csv\")\n",
    "\n",
    "\n",
    "# extract healthy echo data\n",
    "df = df.drop([\"IDshort\",'SERNO','HistoCode'], 1)\n",
    "mask=df[\"Cardiac_Category (0=good; 1=poor)\"]==0\n",
    "healthy_df=df[mask]\n",
    "echo=healthy_df.iloc[:,19:55]\n",
    "\n",
    "# fill in missing data\n",
    "for col in echo.columns:\n",
    "    echo[col].fillna(echo[col].mean(),inplace=True)\n",
    "\n",
    "    \n",
    "# data that form part of cardiac geometry    \n",
    "left_ventricle=echo.iloc[:,1:8]\n",
    "aorta=echo.iloc[:,8:9]\n",
    "left_atrium=echo.iloc[:,9:10]\n",
    "sinus=echo.iloc[:,-4:-2]"
   ]
  },
  {
   "cell_type": "code",
   "execution_count": 3,
   "metadata": {},
   "outputs": [
    {
     "data": {
      "text/html": [
       "<div>\n",
       "<style scoped>\n",
       "    .dataframe tbody tr th:only-of-type {\n",
       "        vertical-align: middle;\n",
       "    }\n",
       "\n",
       "    .dataframe tbody tr th {\n",
       "        vertical-align: top;\n",
       "    }\n",
       "\n",
       "    .dataframe thead th {\n",
       "        text-align: right;\n",
       "    }\n",
       "</style>\n",
       "<table border=\"1\" class=\"dataframe\">\n",
       "  <thead>\n",
       "    <tr style=\"text-align: right;\">\n",
       "      <th></th>\n",
       "      <th>IVSD__cm</th>\n",
       "      <th>IVSS__cm</th>\n",
       "      <th>LVIDD_cm</th>\n",
       "      <th>LVIDS_cm</th>\n",
       "      <th>LVPWD_cm</th>\n",
       "      <th>LVPWS_cm</th>\n",
       "      <th>LVOT__cm</th>\n",
       "    </tr>\n",
       "  </thead>\n",
       "  <tbody>\n",
       "    <tr>\n",
       "      <th>3</th>\n",
       "      <td>0.7</td>\n",
       "      <td>0.9</td>\n",
       "      <td>4.0</td>\n",
       "      <td>2.7</td>\n",
       "      <td>0.6</td>\n",
       "      <td>1.1</td>\n",
       "      <td>2.00</td>\n",
       "    </tr>\n",
       "    <tr>\n",
       "      <th>7</th>\n",
       "      <td>1.0</td>\n",
       "      <td>1.5</td>\n",
       "      <td>6.1</td>\n",
       "      <td>4.0</td>\n",
       "      <td>1.2</td>\n",
       "      <td>1.7</td>\n",
       "      <td>2.25</td>\n",
       "    </tr>\n",
       "    <tr>\n",
       "      <th>12</th>\n",
       "      <td>0.7</td>\n",
       "      <td>1.2</td>\n",
       "      <td>4.3</td>\n",
       "      <td>2.4</td>\n",
       "      <td>0.8</td>\n",
       "      <td>1.3</td>\n",
       "      <td>1.93</td>\n",
       "    </tr>\n",
       "  </tbody>\n",
       "</table>\n",
       "</div>"
      ],
      "text/plain": [
       "    IVSD__cm  IVSS__cm  LVIDD_cm  LVIDS_cm  LVPWD_cm  LVPWS_cm  LVOT__cm\n",
       "3        0.7       0.9       4.0       2.7       0.6       1.1      2.00\n",
       "7        1.0       1.5       6.1       4.0       1.2       1.7      2.25\n",
       "12       0.7       1.2       4.3       2.4       0.8       1.3      1.93"
      ]
     },
     "execution_count": 3,
     "metadata": {},
     "output_type": "execute_result"
    }
   ],
   "source": [
    "# Focus on left ventricle data\n",
    "left_ventricle.head(3)"
   ]
  },
  {
   "cell_type": "code",
   "execution_count": 4,
   "metadata": {},
   "outputs": [],
   "source": [
    "# Extract mean dimensions of diff parts of left ventricle\n",
    "a=left_ventricle.mean()\n",
    "\n",
    "septum_d,septum_s=a[0],a[1]\n",
    "dim_d,dim_s=a[2],a[3]\n",
    "wall_d,wall_s=a[4],a[5]"
   ]
  },
  {
   "cell_type": "markdown",
   "metadata": {},
   "source": [
    "# Plot rough shape of left ventricle"
   ]
  },
  {
   "cell_type": "code",
   "execution_count": 5,
   "metadata": {},
   "outputs": [],
   "source": [
    "from math import pi\n",
    "from matplotlib import axes as axes"
   ]
  },
  {
   "cell_type": "code",
   "execution_count": null,
   "metadata": {},
   "outputs": [],
   "source": []
  },
  {
   "cell_type": "code",
   "execution_count": 6,
   "metadata": {},
   "outputs": [],
   "source": [
    "def draw_shape(a):\n",
    "\n",
    "\n",
    "    septum_d,septum_s=a[0],a[1]\n",
    "    dim_d,dim_s=a[2],a[3]\n",
    "    wall_d,wall_s=a[4],a[5]\n",
    "\n",
    "\n",
    "    # Estimate shape using  parametric eqn of ellipse\n",
    "    # x = u + a cos(t) ; y = v + b sin(t)\n",
    "\n",
    "    u=0     #x-position of the center\n",
    "    v=0   #y-position of the center\n",
    "    a=4 #radius on the x-axis\n",
    "    b=dim_d/2   #radius on the y-axis\n",
    "    indices=[]\n",
    "\n",
    "    t_all= np.linspace(0, 2*pi, 100)\n",
    "    x_all=(u+a*np.cos(t_all))[::-1]\n",
    "    y_all=(v+b*np.sin(t_all))[::-1]\n",
    "\n",
    "    \n",
    "    #remove x,y coordinates where y< (dim_s/2)\n",
    "\n",
    "    for i,(x,y) in enumerate(zip(x_all,y_all)):\n",
    "        if y<=dim_s/2:\n",
    "            indices+=[i]\n",
    "\n",
    "\n",
    "    x=np.delete(x_all,indices)\n",
    "    y=np.delete(y_all,indices)\n",
    "    \n",
    "    y_s=y + septum_d\n",
    "    y_w= -y - wall_d\n",
    "    \n",
    "    \n",
    "    \n",
    "    # Split the ellipse into 2 (left and right)\n",
    "\n",
    "    ys_left=y_s[:np.argmax(y_s)+1]\n",
    "    xs_left=x[:np.argmax(y_s)+1]\n",
    "    yw_left=y_w[:np.argmin(y_w)+1]\n",
    "    xw_left=xs_left\n",
    "\n",
    "    ys_right=y_s[np.argmax(y_s):]\n",
    "    xs_right=x[np.argmax(y_s):]\n",
    "    yw_right=y_w[np.argmin(y_w):]\n",
    "    xw_right=xs_right\n",
    "    \n",
    "    # Ensure that the right side of the ellipse do not go under the straight line\n",
    "\n",
    "    indices=np.where(ys_right< (y[-1]+ septum_s))\n",
    "    indices_1=np.where(yw_right > (-y[-1]-wall_s))\n",
    "\n",
    "    ys_right = np.delete(ys_right, indices)\n",
    "    xs_right= np.delete(xs_right, indices)\n",
    "    yw_right=np.delete(yw_right,indices_1)\n",
    "    xw_right=np.delete(xw_right,indices_1)\n",
    "    \n",
    "    \n",
    "    # Estimate shape of LVIDs using a horizontal line\n",
    "    \n",
    "    x_more=np.linspace(x[-1],6,100)\n",
    "    y_more=np.linspace(y[-1],y[-1],100)\n",
    "    ys_more=np.linspace(y[-1]+ septum_s,y[-1] + septum_s,100)\n",
    "    yw_more=np.linspace(-y[-1]-wall_s,-y[-1] - wall_s,100)\n",
    "    xs_more=np.linspace(xs_right[-1],6,100)\n",
    "    xw_more=np.linspace(xw_right[-1],6,100)\n",
    "    \n",
    "    \n",
    "    # Add all the x,y coordinates respectively\n",
    "\n",
    "    x=np.concatenate((x,x_more),axis=None)\n",
    "    y=np.concatenate((y,y_more),axis=None)\n",
    "    y_s=np.concatenate((ys_left,ys_right,ys_more),axis=None)\n",
    "    x_s=np.concatenate((xs_left,xs_right,xs_more),axis=None)\n",
    "    y_w=np.concatenate((yw_left,yw_right,yw_more),axis=None)\n",
    "    x_w=np.concatenate((xw_left,xw_right,xw_more),axis=None)\n",
    "    \n",
    "    # Plot the graphs\n",
    "\n",
    "    \n",
    "    plt.grid(color='lightgray',linestyle='--')\n",
    "    plt.xlim(-4, 6)\n",
    "    plt.ylim(-4, 4)\n",
    "    plt.plot(x,y)\n",
    "    plt.plot(x,-y)\n",
    "    plt.plot(x_s,y_s)\n",
    "    plt.plot(x_w,y_w)\n",
    "    plt.show()"
   ]
  },
  {
   "cell_type": "code",
   "execution_count": 7,
   "metadata": {},
   "outputs": [
    {
     "data": {
      "image/png": "[encoded data removed]",
      "text/plain": [
       "<Figure size 432x288 with 1 Axes>"
      ]
     },
     "metadata": {
      "needs_background": "light"
     },
     "output_type": "display_data"
    }
   ],
   "source": [
    "draw_shape(a)"
   ]
  },
  {
   "cell_type": "code",
   "execution_count": null,
   "metadata": {},
   "outputs": [],
   "source": []
  }
 ],
 "metadata": {
  "kernelspec": {
   "display_name": "Python 3",
   "language": "python",
   "name": "python3"
  },
  "language_info": {
   "codemirror_mode": {
    "name": "ipython",
    "version": 3
   },
   "file_extension": ".py",
   "mimetype": "text/x-python",
   "name": "python",
   "nbconvert_exporter": "python",
   "pygments_lexer": "ipython3",
   "version": "3.8.5"
  }
 },
 "nbformat": 4,
 "nbformat_minor": 4
}
